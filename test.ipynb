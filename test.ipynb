{
 "cells": [
  {
   "cell_type": "code",
   "execution_count": 1,
   "metadata": {},
   "outputs": [],
   "source": [
    "# some magic so that the notebook will reload external python modules;\n",
    "# see https://stackoverflow.com/questions/1907993/autoreload-of-modules-in-ipython\n",
    "%load_ext autoreload\n",
    "%autoreload 2"
   ]
  },
  {
   "cell_type": "code",
   "execution_count": 1,
   "metadata": {},
   "outputs": [],
   "source": [
    "import json\n",
    "import random\n",
    "import os\n",
    "import hydra\n",
    "import logging\n",
    "\n",
    "import torch\n",
    "from pytorch_lightning import seed_everything, Trainer\n",
    "from pytorch_lightning.callbacks import LearningRateMonitor, ModelCheckpoint\n",
    "# from pytorch_lightning.plugins import DDPPlugin\n",
    "from avg_ckpts import ensemble\n",
    "from datamodule.data_module import DataModule\n",
    "from datamodule.grid_dataset import GridDataset"
   ]
  },
  {
   "cell_type": "code",
   "execution_count": 3,
   "metadata": {},
   "outputs": [],
   "source": [
    "from datamodule.transforms import VideoTransform"
   ]
  },
  {
   "cell_type": "code",
   "execution_count": 10,
   "metadata": {},
   "outputs": [
    {
     "name": "stdout",
     "output_type": "stream",
     "text": [
      "Size of self.list: 800\n"
     ]
    }
   ],
   "source": [
    "from datamodule.grid_dataset import GridDataset\n",
    "root_dir = \"/ssd_scratch/cvit/vanshg/preprocessed_grid/video\"\n",
    "label_path = \"/ssd_scratch/cvit/vanshg/preprocessed_grid/labels/s1_label.csv\"\n",
    "data_size = 0.8\n",
    "\n",
    "dataset = GridDataset(root_dir, label_path, VideoTransform(\"train\"), data_size=data_size)"
   ]
  },
  {
   "cell_type": "code",
   "execution_count": 12,
   "metadata": {},
   "outputs": [
    {
     "name": "stdout",
     "output_type": "stream",
     "text": [
      "<class 'dict'>\n",
      "torch.Size([75, 1, 88, 88])\n",
      "tensor([ 941,  969,  811, 2033, 4742, 3291])\n"
     ]
    }
   ],
   "source": [
    "for data in dataset:\n",
    "    print(type(data))\n",
    "    print(data['input'].shape)\n",
    "    print(data['target'])\n",
    "    break"
   ]
  },
  {
   "cell_type": "code",
   "execution_count": 6,
   "metadata": {},
   "outputs": [
    {
     "name": "stdout",
     "output_type": "stream",
     "text": [
      "Label Path : /ssd_scratch/cvit/vanshg/vansh_phrases/phrases.json, exists = True\n",
      "Size of self.video_list: 80\n"
     ]
    }
   ],
   "source": [
    "from datamodule.phrase_dataset import PhraseDataset\n",
    "root_dir = \"/ssd_scratch/cvit/vanshg/vansh_phrases/preprocessed_phrases\"\n",
    "label_path = \"/ssd_scratch/cvit/vanshg/vansh_phrases/phrases.json\"\n",
    "data_size = 0.8\n",
    "\n",
    "dataset = PhraseDataset(root_dir, label_path, VideoTransform('train'), data_size=data_size)"
   ]
  },
  {
   "cell_type": "code",
   "execution_count": 9,
   "metadata": {},
   "outputs": [
    {
     "name": "stdout",
     "output_type": "stream",
     "text": [
      "60\n",
      "40\n"
     ]
    }
   ],
   "source": [
    "label_path = \"/ssd_scratch/cvit/vanshg/vansh_phrases/phrases.json\"\n",
    "dst_train_label_path = \"/ssd_scratch/cvit/vanshg/vansh_phrases/train_phrases_60.json\"\n",
    "dst_test_label_path = \"/ssd_scratch/cvit/vanshg/vansh_phrases/test_phrases_40.json\"\n",
    "\n",
    "f = open(label_path, 'r')\n",
    "\n",
    "video_list = json.load(f)\n",
    "rng = random.Random(69)\n",
    "rng.shuffle(video_list)\n",
    "\n",
    "train_video_list = video_list[:60]\n",
    "test_video_list = video_list[60:]\n",
    "print(len(train_video_list))\n",
    "print(len(test_video_list))\n",
    "\n",
    "with open(dst_train_label_path, 'w') as file:\n",
    "    json.dump(train_video_list, file)\n",
    "\n",
    "with open(dst_test_label_path, 'w') as file:\n",
    "    json.dump(test_video_list, file)"
   ]
  }
 ],
 "metadata": {
  "kernelspec": {
   "display_name": "lip-reading",
   "language": "python",
   "name": "python3"
  },
  "language_info": {
   "codemirror_mode": {
    "name": "ipython",
    "version": 3
   },
   "file_extension": ".py",
   "mimetype": "text/x-python",
   "name": "python",
   "nbconvert_exporter": "python",
   "pygments_lexer": "ipython3",
   "version": "3.11.5"
  }
 },
 "nbformat": 4,
 "nbformat_minor": 2
}
