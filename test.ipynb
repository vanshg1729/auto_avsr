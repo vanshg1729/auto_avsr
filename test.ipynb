{
 "cells": [
  {
   "cell_type": "code",
   "execution_count": 1,
   "metadata": {},
   "outputs": [],
   "source": [
    "# some magic so that the notebook will reload external python modules;\n",
    "# see https://stackoverflow.com/questions/1907993/autoreload-of-modules-in-ipython\n",
    "%load_ext autoreload\n",
    "%autoreload 2"
   ]
  },
  {
   "cell_type": "code",
   "execution_count": 2,
   "metadata": {},
   "outputs": [],
   "source": [
    "import json\n",
    "import random\n",
    "import os\n",
    "import hydra\n",
    "import logging\n",
    "\n",
    "import torch\n",
    "from pytorch_lightning import seed_everything, Trainer\n",
    "from pytorch_lightning.callbacks import LearningRateMonitor, ModelCheckpoint\n",
    "# from pytorch_lightning.plugins import DDPPlugin\n",
    "from avg_ckpts import ensemble\n",
    "from datamodule.data_module import DataModule\n",
    "from datamodule.grid_dataset import GridDataset"
   ]
  },
  {
   "cell_type": "code",
   "execution_count": 3,
   "metadata": {},
   "outputs": [],
   "source": [
    "from datamodule.transforms import VideoTransform"
   ]
  },
  {
   "cell_type": "code",
   "execution_count": 4,
   "metadata": {},
   "outputs": [
    {
     "ename": "FileNotFoundError",
     "evalue": "[Errno 2] No such file or directory: '/ssd_scratch/cvit/vanshg/preprocessed_grid/labels/s1_label.csv'",
     "output_type": "error",
     "traceback": [
      "\u001b[0;31m---------------------------------------------------------------------------\u001b[0m",
      "\u001b[0;31mFileNotFoundError\u001b[0m                         Traceback (most recent call last)",
      "Cell \u001b[0;32mIn[4], line 6\u001b[0m\n\u001b[1;32m      3\u001b[0m label_path \u001b[38;5;241m=\u001b[39m \u001b[38;5;124m\"\u001b[39m\u001b[38;5;124m/ssd_scratch/cvit/vanshg/preprocessed_grid/labels/s1_label.csv\u001b[39m\u001b[38;5;124m\"\u001b[39m\n\u001b[1;32m      4\u001b[0m data_size \u001b[38;5;241m=\u001b[39m \u001b[38;5;241m0.8\u001b[39m\n\u001b[0;32m----> 6\u001b[0m dataset \u001b[38;5;241m=\u001b[39m \u001b[43mGridDataset\u001b[49m\u001b[43m(\u001b[49m\u001b[43mroot_dir\u001b[49m\u001b[43m,\u001b[49m\u001b[43m \u001b[49m\u001b[43mlabel_path\u001b[49m\u001b[43m,\u001b[49m\u001b[43m \u001b[49m\u001b[43mVideoTransform\u001b[49m\u001b[43m(\u001b[49m\u001b[38;5;124;43m\"\u001b[39;49m\u001b[38;5;124;43mtrain\u001b[39;49m\u001b[38;5;124;43m\"\u001b[39;49m\u001b[43m)\u001b[49m\u001b[43m,\u001b[49m\u001b[43m \u001b[49m\u001b[43mdata_size\u001b[49m\u001b[38;5;241;43m=\u001b[39;49m\u001b[43mdata_size\u001b[49m\u001b[43m)\u001b[49m\n",
      "File \u001b[0;32m~/play/IIITH/research-cvit/lip-reading/auto_avsr/datamodule/grid_dataset.py:69\u001b[0m, in \u001b[0;36mGridDataset.__init__\u001b[0;34m(self, root_dir, label_path, video_transform, subset, data_size)\u001b[0m\n\u001b[1;32m     65\u001b[0m \u001b[38;5;28mself\u001b[39m\u001b[38;5;241m.\u001b[39mdata_size \u001b[38;5;241m=\u001b[39m data_size\n\u001b[1;32m     67\u001b[0m \u001b[38;5;28mself\u001b[39m\u001b[38;5;241m.\u001b[39mmodality \u001b[38;5;241m=\u001b[39m \u001b[38;5;124m'\u001b[39m\u001b[38;5;124mvideo\u001b[39m\u001b[38;5;124m'\u001b[39m\n\u001b[0;32m---> 69\u001b[0m \u001b[38;5;28mself\u001b[39m\u001b[38;5;241m.\u001b[39mlist \u001b[38;5;241m=\u001b[39m \u001b[38;5;28;43mself\u001b[39;49m\u001b[38;5;241;43m.\u001b[39;49m\u001b[43mload_list\u001b[49m\u001b[43m(\u001b[49m\u001b[43mlabel_path\u001b[49m\u001b[43m)\u001b[49m\n\u001b[1;32m     70\u001b[0m \u001b[38;5;28mself\u001b[39m\u001b[38;5;241m.\u001b[39msubset \u001b[38;5;241m=\u001b[39m subset\n\u001b[1;32m     71\u001b[0m \u001b[38;5;28;01mif\u001b[39;00m subset \u001b[38;5;241m==\u001b[39m \u001b[38;5;124m'\u001b[39m\u001b[38;5;124mtrain\u001b[39m\u001b[38;5;124m'\u001b[39m:\n",
      "File \u001b[0;32m~/play/IIITH/research-cvit/lip-reading/auto_avsr/datamodule/grid_dataset.py:88\u001b[0m, in \u001b[0;36mGridDataset.load_list\u001b[0;34m(self, label_path)\u001b[0m\n\u001b[1;32m     86\u001b[0m \u001b[38;5;28;01mdef\u001b[39;00m \u001b[38;5;21mload_list\u001b[39m(\u001b[38;5;28mself\u001b[39m, label_path):\n\u001b[1;32m     87\u001b[0m     paths_counts_labels \u001b[38;5;241m=\u001b[39m []\n\u001b[0;32m---> 88\u001b[0m     \u001b[38;5;28;01mfor\u001b[39;00m path_count_label \u001b[38;5;129;01min\u001b[39;00m \u001b[38;5;28;43mopen\u001b[39;49m\u001b[43m(\u001b[49m\u001b[43mlabel_path\u001b[49m\u001b[43m)\u001b[49m\u001b[38;5;241m.\u001b[39mread()\u001b[38;5;241m.\u001b[39msplitlines():\n\u001b[1;32m     89\u001b[0m         dataset_name, rel_path, input_length, token_id \u001b[38;5;241m=\u001b[39m path_count_label\u001b[38;5;241m.\u001b[39msplit(\u001b[38;5;124m\"\u001b[39m\u001b[38;5;124m,\u001b[39m\u001b[38;5;124m\"\u001b[39m)\n\u001b[1;32m     90\u001b[0m         paths_counts_labels\u001b[38;5;241m.\u001b[39mappend(\n\u001b[1;32m     91\u001b[0m             (\n\u001b[1;32m     92\u001b[0m                 dataset_name,\n\u001b[0;32m   (...)\u001b[0m\n\u001b[1;32m     96\u001b[0m             )\n\u001b[1;32m     97\u001b[0m         )\n",
      "\u001b[0;31mFileNotFoundError\u001b[0m: [Errno 2] No such file or directory: '/ssd_scratch/cvit/vanshg/preprocessed_grid/labels/s1_label.csv'"
     ]
    }
   ],
   "source": [
    "from datamodule.grid_dataset import GridDataset\n",
    "root_dir = \"/ssd_scratch/cvit/vanshg/preprocessed_grid/video\"\n",
    "label_path = \"/ssd_scratch/cvit/vanshg/preprocessed_grid/labels/s1_label.csv\"\n",
    "data_size = 0.8\n",
    "\n",
    "dataset = GridDataset(root_dir, label_path, VideoTransform(\"train\"), data_size=data_size)"
   ]
  },
  {
   "cell_type": "code",
   "execution_count": 12,
   "metadata": {},
   "outputs": [
    {
     "name": "stdout",
     "output_type": "stream",
     "text": [
      "<class 'dict'>\n",
      "torch.Size([75, 1, 88, 88])\n",
      "tensor([ 941,  969,  811, 2033, 4742, 3291])\n"
     ]
    }
   ],
   "source": [
    "for data in dataset:\n",
    "    print(type(data))\n",
    "    print(data['input'].shape)\n",
    "    print(data['target'])\n",
    "    break"
   ]
  },
  {
   "cell_type": "code",
   "execution_count": 6,
   "metadata": {},
   "outputs": [
    {
     "name": "stdout",
     "output_type": "stream",
     "text": [
      "Label Path : /ssd_scratch/cvit/vanshg/vansh_phrases/phrases.json, exists = True\n",
      "Size of self.video_list: 80\n"
     ]
    }
   ],
   "source": [
    "from datamodule.phrase_dataset import PhraseDataset\n",
    "root_dir = \"/ssd_scratch/cvit/vanshg/vansh_phrases/preprocessed_phrases\"\n",
    "label_path = \"/ssd_scratch/cvit/vanshg/vansh_phrases/phrases.json\"\n",
    "data_size = 0.8\n",
    "\n",
    "dataset = PhraseDataset(root_dir, label_path, VideoTransform('train'), data_size=data_size)"
   ]
  },
  {
   "cell_type": "code",
   "execution_count": 9,
   "metadata": {},
   "outputs": [
    {
     "name": "stdout",
     "output_type": "stream",
     "text": [
      "60\n",
      "40\n"
     ]
    }
   ],
   "source": [
    "label_path = \"/ssd_scratch/cvit/vanshg/vansh_phrases/phrases.json\"\n",
    "dst_train_label_path = \"/ssd_scratch/cvit/vanshg/vansh_phrases/train_phrases_60.json\"\n",
    "dst_test_label_path = \"/ssd_scratch/cvit/vanshg/vansh_phrases/test_phrases_40.json\"\n",
    "\n",
    "f = open(label_path, 'r')\n",
    "\n",
    "video_list = json.load(f)\n",
    "rng = random.Random(69)\n",
    "rng.shuffle(video_list)\n",
    "\n",
    "train_video_list = video_list[:60]\n",
    "test_video_list = video_list[60:]\n",
    "print(len(train_video_list))\n",
    "print(len(test_video_list))\n",
    "\n",
    "with open(dst_train_label_path, 'w') as file:\n",
    "    json.dump(train_video_list, file)\n",
    "\n",
    "with open(dst_test_label_path, 'w') as file:\n",
    "    json.dump(test_video_list, file)"
   ]
  },
  {
   "cell_type": "markdown",
   "metadata": {},
   "source": [
    "### Testing inference"
   ]
  },
  {
   "cell_type": "code",
   "execution_count": 1,
   "metadata": {},
   "outputs": [],
   "source": [
    "# some magic so that the notebook will reload external python modules;\n",
    "# see https://stackoverflow.com/questions/1907993/autoreload-of-modules-in-ipython\n",
    "%load_ext autoreload\n",
    "%autoreload 2"
   ]
  },
  {
   "cell_type": "code",
   "execution_count": 2,
   "metadata": {},
   "outputs": [],
   "source": [
    "import os\n",
    "import json\n",
    "import glob\n",
    "import csv\n",
    "\n",
    "import hydra\n",
    "import cv2\n",
    "import torch\n",
    "import torchaudio\n",
    "import torchvision\n",
    "\n",
    "from datamodule.av_dataset import cut_or_pad\n",
    "from datamodule.transforms import AudioTransform, VideoTransform\n",
    "from hydra import initialize, compose\n",
    "import matplotlib.pyplot as plt\n",
    "\n",
    "device = 'cuda' if torch.cuda.is_available() else 'cpu'"
   ]
  },
  {
   "cell_type": "code",
   "execution_count": 7,
   "metadata": {},
   "outputs": [],
   "source": [
    "class InferencePipeline(torch.nn.Module):\n",
    "    def __init__(self, cfg, detector=\"retinaface\"):\n",
    "        super(InferencePipeline, self).__init__()\n",
    "        self.modality = cfg.data.modality\n",
    "        if self.modality in [\"audio\", \"audiovisual\"]:\n",
    "            self.audio_transform = AudioTransform(subset=\"test\")\n",
    "        if self.modality in [\"video\", \"audiovisual\"]:\n",
    "            if detector == \"mediapipe\":\n",
    "                from preparation.detectors.mediapipe.detector import LandmarksDetector\n",
    "                from preparation.detectors.mediapipe.video_process import VideoProcess\n",
    "                self.landmarks_detector = LandmarksDetector()\n",
    "                self.video_process = VideoProcess(convert_gray=False)\n",
    "            elif detector == \"retinaface\":\n",
    "                from preparation.detectors.retinaface.detector import LandmarksDetector\n",
    "                from preparation.detectors.retinaface.video_process import VideoProcess\n",
    "                self.landmarks_detector = LandmarksDetector(device=\"cuda:0\")\n",
    "                self.video_process = VideoProcess(convert_gray=False)\n",
    "            self.video_transform = VideoTransform(subset=\"test\")\n",
    "\n",
    "        if cfg.data.modality in [\"audio\", \"video\"]:\n",
    "            from lightning import ModelModule\n",
    "        elif cfg.data.modality == \"audiovisual\":\n",
    "            from lightning_av import ModelModule\n",
    "        self.modelmodule = ModelModule(cfg)\n",
    "        self.modelmodule.model.load_state_dict(torch.load(cfg.pretrained_model_path, map_location=lambda storage, loc: storage))\n",
    "        self.modelmodule.eval()\n",
    "\n",
    "\n",
    "    def forward(self, data_filename):\n",
    "        data_filename = os.path.abspath(data_filename)\n",
    "        assert os.path.isfile(data_filename), f\"data_filename: {data_filename} does not exist.\"\n",
    "\n",
    "        if self.modality in [\"audio\", \"audiovisual\"]:\n",
    "            audio, sample_rate = self.load_audio(data_filename)\n",
    "            audio = self.audio_process(audio, sample_rate)\n",
    "            audio = audio.transpose(1, 0)\n",
    "            audio = self.audio_transform(audio)\n",
    "\n",
    "        if self.modality in [\"video\", \"audiovisual\"]:\n",
    "            video = self.load_video(data_filename)\n",
    "            landmarks = self.landmarks_detector(video)\n",
    "            video = torch.tensor(self.video_process(video, landmarks)) # (T, H, W, C)\n",
    "            video = video.permute(0, 3, 1, 2) # (T, C, H, W)\n",
    "            print(f\"video.shape = {video.shape}\")\n",
    "            video = self.video_transform(video)\n",
    "            print(f\"shape of video after transformation: {video.shape}\")\n",
    "\n",
    "            return video\n",
    "        if self.modality == \"video\":\n",
    "            with torch.no_grad():\n",
    "                self.modelmodule = self.modelmodule.to(device)\n",
    "                transcript = self.modelmodule(video)\n",
    "        elif self.modality == \"audio\":\n",
    "            with torch.no_grad():\n",
    "                transcript = self.modelmodule(audio)\n",
    "\n",
    "        elif self.modality == \"audiovisual\":\n",
    "            print(len(audio), len(video))\n",
    "            assert 530 < len(audio) // len(video) < 670, \"The video frame rate should be between 24 and 30 fps.\"\n",
    "\n",
    "            rate_ratio = len(audio) // len(video)\n",
    "            if rate_ratio == 640:\n",
    "                pass\n",
    "            else:\n",
    "                print(f\"The ideal video frame rate is set to 25 fps, but the current frame rate ratio, calculated as {len(video)*16000/len(audio):.1f}, which may affect the performance.\")\n",
    "                audio = cut_or_pad(audio, len(video) * 640)\n",
    "            with torch.no_grad():\n",
    "                transcript = self.modelmodule(video, audio)\n",
    "\n",
    "        return transcript\n",
    "\n",
    "    def load_audio(self, data_filename):\n",
    "        waveform, sample_rate = torchaudio.load(data_filename, normalize=True)\n",
    "        return waveform, sample_rate\n",
    "\n",
    "    def load_video(self, data_filename):\n",
    "        return torchvision.io.read_video(data_filename, pts_unit=\"sec\")[0].numpy()\n",
    "\n",
    "    def audio_process(self, waveform, sample_rate, target_sample_rate=16000):\n",
    "        if sample_rate != target_sample_rate:\n",
    "            waveform = torchaudio.functional.resample(\n",
    "                waveform, sample_rate, target_sample_rate\n",
    "            )\n",
    "        waveform = torch.mean(waveform, dim=0, keepdim=True)\n",
    "        return waveform"
   ]
  },
  {
   "cell_type": "code",
   "execution_count": 8,
   "metadata": {},
   "outputs": [
    {
     "name": "stdout",
     "output_type": "stream",
     "text": [
      "{'decoder': 0.9, 'ctc': 0.1, 'lm': 0.3, 'length_bonus': 0.0}\n",
      "init: self.device: cpu\n",
      "video.shape = torch.Size([49, 96, 96, 3])\n",
      "shape of video after transformation: torch.Size([1, 49, 88, 88])\n",
      "video.shape after transform = torch.Size([1, 49, 88, 88])\n",
      "video.min = -2.1237075328826904 | video.max = 1.7740938663482666\n"
     ]
    }
   ],
   "source": [
    "with initialize(version_base=None, config_path=\"configs\"):\n",
    "    cfg = compose(config_name=\"config\")\n",
    "    cfg.data.modality = 'video'\n",
    "    cfg.pretrained_model_path = \"./checkpoints/lrs3/models/LRS3_V_WER19.1/model.pth\"\n",
    "    cfg.file_path = \"/home/vanshg/play/IIITH/research-cvit/lip-reading/Visual_Speech_Recognition_for_Multiple_Languages/data/test/0QVXdEOiCw8/00001.mp4\"\n",
    "\n",
    "    pipeline = InferencePipeline(cfg)\n",
    "    video = pipeline(cfg.file_path)\n",
    "    print(f\"video.shape after transform = {video.shape}\")\n",
    "    print(f\"video.min = {video.min()} | video.max = {video.max()}\")\n",
    "    # video = video.to('cpu')\n",
    "    # print(video.shape, video.device)\n",
    "\n",
    "    # with open('processed_video1.pkl', 'wb') as file:\n",
    "    #     torch.save(video, file)"
   ]
  },
  {
   "cell_type": "code",
   "execution_count": 9,
   "metadata": {},
   "outputs": [
    {
     "name": "stdout",
     "output_type": "stream",
     "text": [
      "torch.Size([1, 49, 88, 88]) cpu torch.float32\n",
      "torch.Size([1, 49, 88, 88]) cpu torch.float32\n"
     ]
    }
   ],
   "source": [
    "with open('processed_video.pkl', 'rb') as file:\n",
    "    other_video = torch.load(file)\n",
    "\n",
    "print(video.shape, video.device, video.dtype)\n",
    "print(other_video.shape, other_video.device, other_video.dtype)"
   ]
  },
  {
   "cell_type": "code",
   "execution_count": 10,
   "metadata": {},
   "outputs": [
    {
     "data": {
      "text/plain": [
       "False"
      ]
     },
     "execution_count": 10,
     "metadata": {},
     "output_type": "execute_result"
    }
   ],
   "source": [
    "torch.allclose(video, other_video)"
   ]
  },
  {
   "cell_type": "code",
   "execution_count": 11,
   "metadata": {},
   "outputs": [
    {
     "name": "stdout",
     "output_type": "stream",
     "text": [
      "sample.shape = torch.Size([1, 49, 88, 88])\n",
      "Number of hypothesis: 132\n",
      "Prediction 0: IT WASN'T REALLY ALL LIKE THIS | scores: {'decoder': -4.883006572723389, 'ctc': -9.339526176452637, 'lm': -27.997802734375}\n",
      "Prediction 1: IT WASN'T VERY COOL LIKE THIS | scores: {'decoder': -5.048012733459473, 'ctc': -7.849823474884033, 'lm': -29.284236907958984}\n",
      "Prediction 2: IT WASN'T QUITE ALL LIKE THIS | scores: {'decoder': -6.687277793884277, 'ctc': -11.480616569519043, 'lm': -26.260738372802734}\n",
      "Prediction 3: IT WASN'T REALLY AT ALL LIKE THIS | scores: {'decoder': -7.503573417663574, 'ctc': -13.569295883178711, 'lm': -25.910791397094727}\n",
      "Prediction 4: IT WASN'T REALLY QUITE LIKE THIS | scores: {'decoder': -7.709312915802002, 'ctc': -11.921098709106445, 'lm': -26.63516616821289}\n",
      "Prediction 5: IT WASN'T VERY COOL LOOKING THINGS | scores: {'decoder': -5.334903717041016, 'ctc': -14.818465232849121, 'lm': -35.50229263305664}\n",
      "Prediction 6: I WASN'T REALLY AT ALL LIKE THIS | scores: {'decoder': -8.112814903259277, 'ctc': -14.372286796569824, 'lm': -27.979228973388672}\n",
      "Prediction 7: IT WASN'T VERY COOL OR LIKE THIS | scores: {'decoder': -6.012252330780029, 'ctc': -11.021333694458008, 'lm': -36.17854309082031}\n",
      "Prediction 8: I WASN'T TRYING TO LOOK LIKE THIS | scores: {'decoder': -8.172547340393066, 'ctc': -18.51236343383789, 'lm': -28.09740447998047}\n",
      "Prediction 9: IT WASN'T VERY COOL LOOKING AT THINGS | scores: {'decoder': -6.158985137939453, 'ctc': -16.712207794189453, 'lm': -35.99525833129883}\n",
      "Prediction 10: I WASN'T QUITE SURE WHAT I FELT | scores: {'decoder': -8.956730842590332, 'ctc': -28.478681564331055, 'lm': -23.947805404663086}\n",
      "Prediction 11: IT WASN'T VERY GOOD OR LIKE THIS | scores: {'decoder': -8.315644264221191, 'ctc': -15.171801567077637, 'lm': -32.133304595947266}\n",
      "Prediction 12: I WASN'T TRYING TO WALK AWAY LIKE THIS | scores: {'decoder': -7.531175136566162, 'ctc': -23.293455123901367, 'lm': -32.94108963012695}\n",
      "Prediction 13: IT WASN'T VERY COOL LOOKING AT THIS | scores: {'decoder': -7.484671115875244, 'ctc': -14.704949378967285, 'lm': -36.164451599121094}\n",
      "Prediction 14: I WASN'T VERY GOOD AT WORKING THINGS | scores: {'decoder': -8.057342529296875, 'ctc': -26.532255172729492, 'lm': -30.97176742553711}\n",
      "Prediction 15: IT WASN'T VERY COOL AT ALL LIKE THIS | scores: {'decoder': -7.989785671234131, 'ctc': -15.783422470092773, 'lm': -35.334617614746094}\n",
      "Prediction 16: I WASN'T REALLY GOING TO WORK LIKE THIS | scores: {'decoder': -9.129656791687012, 'ctc': -20.740808486938477, 'lm': -30.375219345092773}\n",
      "Prediction 17: I WASN'T VERY COOL LOOKING AT THIS | scores: {'decoder': -7.204955101013184, 'ctc': -15.507941246032715, 'lm': -37.94775390625}\n",
      "Prediction 18: I WASN'T VERY COOL LOOKING AT THINGS | scores: {'decoder': -7.301064968109131, 'ctc': -17.515201568603516, 'lm': -37.17258071899414}\n",
      "Prediction 19: I WASN'T QUITE SURE WHAT I THOUGHT | scores: {'decoder': -11.114295959472656, 'ctc': -30.204313278198242, 'lm': -22.046428680419922}\n",
      "Prediction 20: I WASN'T VERY GOOD AT LOOKING AT THINGS | scores: {'decoder': -9.336394309997559, 'ctc': -28.403884887695312, 'lm': -29.286203384399414}\n",
      "Prediction 21: I WASN'T REALLY AT ALL LOOKING AT THINGS | scores: {'decoder': -8.954678535461426, 'ctc': -23.347461700439453, 'lm': -32.43412399291992}\n",
      "Prediction 22: I WASN'T VERY GOOD AT WORKING AT THIS | scores: {'decoder': -7.655624866485596, 'ctc': -26.399303436279297, 'lm': -35.4277229309082}\n",
      "Prediction 23: IT WASN'T REALLY WHAT WE LIKED FIRST | scores: {'decoder': -7.6519880294799805, 'ctc': -23.08587646484375, 'lm': -36.812923431396484}\n",
      "Prediction 24: IT WASN'T A VERY LONG WAY LIKE THIS | scores: {'decoder': -9.50333023071289, 'ctc': -18.754858016967773, 'lm': -32.7570915222168}\n",
      "Prediction 25: IT WASN'T VERY GOOD AT ALL LIKE THIS | scores: {'decoder': -9.589012145996094, 'ctc': -19.924287796020508, 'lm': -32.6346435546875}\n",
      "Prediction 26: IT WASN'T REALLY ALL WE HAD AT FIRST | scores: {'decoder': -8.737004280090332, 'ctc': -23.599599838256836, 'lm': -34.37411880493164}\n",
      "Prediction 27: I WASN'T VERY GOOD AT ALL LIKE THIS | scores: {'decoder': -9.432125091552734, 'ctc': -20.727277755737305, 'lm': -34.48853302001953}\n",
      "Prediction 28: IT WASN'T VERY COOL WE LIKED THOSE | scores: {'decoder': -6.6721720695495605, 'ctc': -18.714874267578125, 'lm': -44.24308395385742}\n",
      "Prediction 29: I WASN'T REALLY AT ALL LOOKING AT THIS | scores: {'decoder': -9.814351081848145, 'ctc': -21.3402042388916, 'lm': -35.16865539550781}\n",
      "Prediction 30: I WASN'T QUITE SURE WHAT I HAD FOUND | scores: {'decoder': -11.424745559692383, 'ctc': -36.21653747558594, 'lm': -25.597387313842773}\n",
      "Prediction 31: IT WASN'T VERY COOL WE LIKED THIS | scores: {'decoder': -8.296425819396973, 'ctc': -16.223106384277344, 'lm': -41.723670959472656}\n",
      "Prediction 32: I WASN'T VERY GOOD AT LOOKING AT THIS | scores: {'decoder': -10.75497055053711, 'ctc': -26.396629333496094, 'lm': -32.18913269042969}\n",
      "Prediction 33: IT WASN'T FOR A QUARTER OR A THIRD | scores: {'decoder': -10.006332397460938, 'ctc': -30.76691436767578, 'lm': -34.1581916809082}\n",
      "Prediction 34: I WASN'T TRYING TO LOOK AT ALL LIKE THIS | scores: {'decoder': -10.588763236999512, 'ctc': -27.64638328552246, 'lm': -33.672821044921875}\n",
      "Prediction 35: I WASN'T VERY GOOD AT LOOKING AT THESE | scores: {'decoder': -10.683406829833984, 'ctc': -30.262069702148438, 'lm': -33.193748474121094}\n",
      "Prediction 36: IT WASN'T FOR A QUARTER OF WHAT I FELT | scores: {'decoder': -9.589492797851562, 'ctc': -31.841108322143555, 'lm': -36.680442810058594}\n",
      "Prediction 37: IT WASN'T FOR A QUARTER OF AN HOUR | scores: {'decoder': -14.505624771118164, 'ctc': -37.75700759887695, 'lm': -23.414112091064453}\n",
      "Prediction 38: IT WASN'T FOR A QUARTER OF A YEAR | scores: {'decoder': -14.140775680541992, 'ctc': -33.15593719482422, 'lm': -26.6142520904541}\n",
      "Prediction 39: IT WASN'T FOR A QUARTER OF WHAT I THOUGHT | scores: {'decoder': -12.531037330627441, 'ctc': -33.566749572753906, 'lm': -34.755985260009766}\n",
      "Prediction 40: IT WASN'T FOR A QUARTER OF AN HOUR FIRST | scores: {'decoder': -12.980192184448242, 'ctc': -40.9482307434082, 'lm': -31.57179069519043}\n",
      "Prediction 41: IT WASN'T FOR A QUARTER OF AN HOUR LIKE THIS | scores: {'decoder': -13.130480766296387, 'ctc': -39.4271240234375, 'lm': -32.333919525146484}\n",
      "Prediction 42: IT WASN'T FOR A QUARTER OF WHAT I FOUND | scores: {'decoder': -12.181299209594727, 'ctc': -33.45777130126953, 'lm': -37.366554260253906}\n",
      "Prediction 43: IT WASN'T FOR A QUARTER OF A YEAR'S | scores: {'decoder': -12.537863731384277, 'ctc': -41.36502456665039, 'lm': -35.91934585571289}\n",
      "Prediction 44: IT WASN'T FOR A QUARTER OF A YEAR IN ADVANCE | scores: {'decoder': -13.413040161132812, 'ctc': -43.270076751708984, 'lm': -34.94353485107422}\n",
      "Prediction 45: IT WASN'T FOR A QUARTER OF AN HOUR AT FIRST | scores: {'decoder': -13.902352333068848, 'ctc': -45.55815505981445, 'lm': -33.615509033203125}\n",
      "Prediction 46: IT WASN'T FOR A QUARTER OF A YEAR OR SO | scores: {'decoder': -14.617032051086426, 'ctc': -49.39548873901367, 'lm': -30.394872665405273}\n",
      "Prediction 47: IT WASN'T FOR A QUARTER OF AN HOUR'S | scores: {'decoder': -14.067789077758789, 'ctc': -46.107112884521484, 'lm': -33.783050537109375}\n",
      "Prediction 48: IT WASN'T FOR A QUARTER OF A YEAR THAT | scores: {'decoder': -15.023066520690918, 'ctc': -36.55390167236328, 'lm': -34.31364440917969}\n",
      "Prediction 49: IT WASN'T FOR A QUARTER OF AN HOUR OR SO | scores: {'decoder': -15.691539764404297, 'ctc': -54.59705352783203, 'lm': -26.708925247192383}\n",
      "Prediction 50: IT WASN'T FOR A QUARTER OF AN HOUR IN ADVANCE | scores: {'decoder': -13.594067573547363, 'ctc': -48.66016387939453, 'lm': -35.256954193115234}\n",
      "Prediction 51: IT WASN'T FOR A QUARTER OF AN HOUR THAT | scores: {'decoder': -15.94593620300293, 'ctc': -42.390926361083984, 'lm': -31.11334800720215}\n",
      "Prediction 52: IT WASN'T FOR A QUARTER OF WHAT HE HAD FOUND | scores: {'decoder': -14.020586013793945, 'ctc': -41.49314880371094, 'lm': -39.182411193847656}\n",
      "Prediction 53: IT WASN'T FOR A QUARTER OR A THIRD OF THIS | scores: {'decoder': -13.012553215026855, 'ctc': -36.90101623535156, 'lm': -43.87826919555664}\n",
      "Prediction 54: IT WASN'T FOR A QUARTER OF WHAT I HAD FOUND | scores: {'decoder': -14.087761878967285, 'ctc': -39.6323356628418, 'lm': -39.758968353271484}\n",
      "Prediction 55: IT WASN'T FOR A QUARTER OR A THIRD OF US | scores: {'decoder': -12.937642097473145, 'ctc': -41.24894332885742, 'lm': -42.67621994018555}\n",
      "Prediction 56: IT WASN'T FOR A QUARTER OR A THIRD OF IT | scores: {'decoder': -14.204503059387207, 'ctc': -43.14631652832031, 'lm': -38.52560806274414}\n",
      "Prediction 57: IT WASN'T FOR A QUARTER OF A YEAR OR TWO | scores: {'decoder': -15.593244552612305, 'ctc': -53.45357131958008, 'lm': -31.16437530517578}\n",
      "Prediction 58: IT WASN'T FOR A QUARTER OR A THIRD OF THOSE | scores: {'decoder': -12.468710899353027, 'ctc': -39.39290237426758, 'lm': -45.368778228759766}\n",
      "Prediction 59: IT WASN'T FOR A QUARTER OF WHAT I HAD FELT | scores: {'decoder': -14.368051528930664, 'ctc': -38.015682220458984, 'lm': -40.448604583740234}\n",
      "Prediction 60: IT WASN'T FOR A QUARTER OF AN HOUR'S FAST | scores: {'decoder': -13.701656341552734, 'ctc': -54.066532135009766, 'lm': -37.39936828613281}\n",
      "Prediction 61: IT WASN'T FOR A QUARTER OF WHAT HE HAD FIRST | scores: {'decoder': -13.44815444946289, 'ctc': -37.830535888671875, 'lm': -43.59846496582031}\n",
      "Prediction 62: IT WASN'T FOR A QUARTER OF WHAT HE HAD FELT | scores: {'decoder': -14.72085952758789, 'ctc': -39.87649154663086, 'lm': -39.77703094482422}\n",
      "Prediction 63: IT WASN'T FOR A QUARTER OF WHAT I HAD FIRST | scores: {'decoder': -14.299118041992188, 'ctc': -35.9697265625, 'lm': -42.54100036621094}\n",
      "Prediction 64: IT WASN'T FOR A QUARTER OF AN HOUR'S NOTICE | scores: {'decoder': -14.689650535583496, 'ctc': -60.623008728027344, 'lm': -35.012210845947266}\n",
      "Prediction 65: IT WASN'T FOR A QUARTER OF AN HOUR AT THIS | scores: {'decoder': -16.157968521118164, 'ctc': -43.15795135498047, 'lm': -36.90022659301758}\n",
      "Prediction 66: IT WASN'T FOR A QUARTER OR A HALF A YARDS | scores: {'decoder': -13.854799270629883, 'ctc': -46.63872146606445, 'lm': -42.784420013427734}\n",
      "Prediction 67: IT WASN'T FOR A QUARTER OF WHAT I'D FOUND | scores: {'decoder': -14.807045936584473, 'ctc': -46.64607238769531, 'lm': -40.3989372253418}\n",
      "Prediction 68: IT WASN'T FOR A QUARTER OF WHAT HE HAD TO DO | scores: {'decoder': -15.796551704406738, 'ctc': -49.043235778808594, 'lm': -37.24493408203125}\n",
      "Prediction 69: IT WASN'T FOR A QUARTER OF A YEAR'S NOTICE | scores: {'decoder': -15.115140914916992, 'ctc': -55.46340560913086, 'lm': -37.27817916870117}\n",
      "Prediction 70: IT WASN'T FOR A QUARTER OR A THIRD OF THAT | scores: {'decoder': -15.543222427368164, 'ctc': -40.78123474121094, 'lm': -41.19367599487305}\n",
      "Prediction 71: IT WASN'T FOR A QUARTER OR A THIRD OF THE YEAR | scores: {'decoder': -15.182941436767578, 'ctc': -51.28948974609375, 'lm': -38.817291259765625}\n",
      "Prediction 72: IT WASN'T FOR A QUARTER OR A THIRD OF AN HOUR | scores: {'decoder': -15.6865234375, 'ctc': -56.54325485229492, 'lm': -36.272369384765625}\n",
      "Prediction 73: IT WASN'T FOR A QUARTER OR A THIRD OF THE ANSWER | scores: {'decoder': -13.92807388305664, 'ctc': -48.05986022949219, 'lm': -44.90692901611328}\n",
      "Prediction 74: IT WASN'T FOR A QUARTER OF WHAT I'D FELT | scores: {'decoder': -15.720915794372559, 'ctc': -45.02946853637695, 'lm': -40.789649963378906}\n",
      "Prediction 75: IT WASN'T FOR A QUARTER OF WHAT HE HAD TO ASK | scores: {'decoder': -15.946328163146973, 'ctc': -49.584144592285156, 'lm': -38.988277435302734}\n",
      "Prediction 76: IT WASN'T FOR A QUARTER OF A YEAR'S YEAR | scores: {'decoder': -15.745006561279297, 'ctc': -52.10149002075195, 'lm': -39.780128479003906}\n",
      "Prediction 77: IT WASN'T FOR A QUARTER OR A THIRD OF AN INCH | scores: {'decoder': -15.041238784790039, 'ctc': -61.21622848510742, 'lm': -39.62990951538086}\n",
      "Prediction 78: IT WASN'T FOR A QUARTER OF WHAT I'D DONE | scores: {'decoder': -17.846967697143555, 'ctc': -49.860660552978516, 'lm': -35.716312408447266}\n",
      "Prediction 79: IT WASN'T FOR A QUARTER OF AN HOUR AT THE END | scores: {'decoder': -17.550222396850586, 'ctc': -56.54229736328125, 'lm': -34.92564392089844}\n",
      "Prediction 80: IT WASN'T FOR A QUARTER OR A THIRD OF A YEAR | scores: {'decoder': -17.410472869873047, 'ctc': -51.92967224121094, 'lm': -37.3927116394043}\n",
      "Prediction 81: IT WASN'T FOR A QUARTER OR A THIRD OF ITS | scores: {'decoder': -15.382587432861328, 'ctc': -45.087059020996094, 'lm': -47.31833267211914}\n",
      "Prediction 82: IT WASN'T FOR A QUARTER OR A THIRD OF AN HOUR'S | scores: {'decoder': -14.408140182495117, 'ctc': -64.98663330078125, 'lm': -46.47547149658203}\n",
      "Prediction 83: IT WASN'T FOR A QUARTER OF A YEAR'S SALES | scores: {'decoder': -17.159454345703125, 'ctc': -60.57625961303711, 'lm': -41.20962142944336}\n",
      "Prediction 84: IT WASN'T FOR A QUARTER OR A THIRD OF A YEAR'S | scores: {'decoder': -15.969440460205078, 'ctc': -60.397823333740234, 'lm': -45.779579162597656}\n",
      "Prediction 85: IT WASN'T FOR A QUARTER OF A YEAR'S YEAR'S | scores: {'decoder': -16.12386703491211, 'ctc': -64.45601654052734, 'lm': -44.45628356933594}\n",
      "Prediction 86: IT WASN'T FOR A QUARTER OF A YEAR'S VASE | scores: {'decoder': -15.595983505249023, 'ctc': -55.87422180175781, 'lm': -49.603633880615234}\n",
      "Prediction 87: IT WASN'T FOR A QUARTER OF A YEAR'S SALE | scores: {'decoder': -18.40386199951172, 'ctc': -62.07624053955078, 'lm': -39.7404670715332}\n",
      "Prediction 88: IT WASN'T FOR A QUARTER OF AN HOUR AT THE END OF THIS | scores: {'decoder': -18.706037521362305, 'ctc': -63.1043815612793, 'lm': -41.5163688659668}\n",
      "Prediction 89: IT WASN'T FOR A QUARTER OF A YEAR'S SALARY | scores: {'decoder': -20.795942306518555, 'ctc': -65.66072845458984, 'lm': -35.613258361816406}\n",
      "Prediction 90: IT WASN'T FOR A QUARTER OF AN HOUR'S FASTEST | scores: {'decoder': -18.184375762939453, 'ctc': -62.631011962890625, 'lm': -46.31793212890625}\n",
      "Prediction 91: IT WASN'T FOR A QUARTER OR A THIRD OF THE YEAR'S | scores: {'decoder': -18.521018981933594, 'ctc': -60.03593826293945, 'lm': -46.498695373535156}\n",
      "Prediction 92: IT WASN'T FOR A QUARTER OR A THIRD OF THE YEAR SO | scores: {'decoder': -18.5870304107666, 'ctc': -59.66850280761719, 'lm': -47.47416305541992}\n",
      "Prediction 93: IT WASN'T FOR A QUARTER OF WHAT I'D DONE TO | scores: {'decoder': -19.370790481567383, 'ctc': -57.31513595581055, 'lm': -45.910926818847656}\n",
      "Prediction 94: IT WASN'T FOR A QUARTER OR A THIRD OF THE YEAR THAT | scores: {'decoder': -19.75565528869629, 'ctc': -59.12146759033203, 'lm': -44.49601364135742}\n",
      "Prediction 95: IT WASN'T FOR A QUARTER OR A THIRD OF THE YEAR IT | scores: {'decoder': -18.957515716552734, 'ctc': -58.507259368896484, 'lm': -47.426963806152344}\n",
      "Prediction 96: IT WASN'T FOR A QUARTER OR A THIRD OF THE YEAR THIS | scores: {'decoder': -19.01923179626465, 'ctc': -56.35585021972656, 'lm': -48.534645080566406}\n",
      "Prediction 97: IT WASN'T FOR A QUARTER OF WHAT HE HAD TO DO WITH | scores: {'decoder': -21.243057250976562, 'ctc': -59.688575744628906, 'lm': -40.809974670410156}\n",
      "Prediction 98: IT WASN'T FOR A QUARTER OR A THIRD OF AN HOUR SO | scores: {'decoder': -18.940292358398438, 'ctc': -64.68576049804688, 'lm': -46.750877380371094}\n",
      "Prediction 99: IT WASN'T FOR A QUARTER OF AN HOUR AT THE END OF THE DAY | scores: {'decoder': -20.243579864501953, 'ctc': -77.70458221435547, 'lm': -38.86249542236328}\n",
      "Prediction 100: IT WASN'T FOR A QUARTER OF AN HOUR AT THE END OF THAT | scores: {'decoder': -21.015901565551758, 'ctc': -66.98411560058594, 'lm': -40.314796447753906}\n",
      "Prediction 101: IT WASN'T FOR A QUARTER OR A THIRD OF AN HOUR OR SO | scores: {'decoder': -20.114473342895508, 'ctc': -75.50065612792969, 'lm': -40.40620040893555}\n",
      "Prediction 102: IT WASN'T FOR A QUARTER OF AN HOUR AT THE END OF | scores: {'decoder': -21.904281616210938, 'ctc': -64.8475112915039, 'lm': -38.811126708984375}\n",
      "Prediction 103: IT WASN'T FOR A QUARTER OR A THIRD OF THE YEAR IT WAS | scores: {'decoder': -19.406085968017578, 'ctc': -67.79974365234375, 'lm': -45.5458984375}\n",
      "Prediction 104: IT WASN'T FOR A QUARTER OF AN HOUR AT THE END OF LAST | scores: {'decoder': -20.44977378845215, 'ctc': -69.34209442138672, 'lm': -42.13754653930664}\n",
      "Prediction 105: IT WASN'T FOR A QUARTER OF AN HOUR AT THE END OF THE | scores: {'decoder': -20.41132354736328, 'ctc': -68.16194152832031, 'lm': -42.73558807373047}\n",
      "Prediction 106: IT WASN'T FOR A QUARTER OF AN HOUR AT THE END OF THE YEAR | scores: {'decoder': -19.771392822265625, 'ctc': -77.50932312011719, 'lm': -42.389888763427734}\n",
      "Prediction 107: IT WASN'T FOR A QUARTER OR A THIRD OF AN HOUR'S TIME | scores: {'decoder': -19.34147834777832, 'ctc': -74.80269622802734, 'lm': -44.857757568359375}\n",
      "Prediction 108: IT WASN'T FOR A QUARTER OR A THIRD OF THE YEAR IT'S | scores: {'decoder': -18.893692016601562, 'ctc': -68.53938293457031, 'lm': -48.309635162353516}\n",
      "Prediction 109: IT WASN'T FOR A QUARTER OF WHAT I'D DONE TO YOU | scores: {'decoder': -22.411855697631836, 'ctc': -63.2213249206543, 'lm': -40.558753967285156}\n",
      "Prediction 110: IT WASN'T FOR A QUARTER OF A YEAR'S VASES | scores: {'decoder': -20.669973373413086, 'ctc': -60.243839263916016, 'lm': -47.46653747558594}\n",
      "Prediction 111: IT WASN'T FOR A QUARTER OF AN HOUR AT THE END OF IT | scores: {'decoder': -22.936382293701172, 'ctc': -69.34027099609375, 'lm': -37.665191650390625}\n",
      "Prediction 112: IT WASN'T FOR A QUARTER OF AN HOUR AT THE END OF THE HOUR | scores: {'decoder': -20.820037841796875, 'ctc': -79.39608764648438, 'lm': -41.84098434448242}\n",
      "Prediction 113: IT WASN'T FOR A QUARTER OF AN HOUR AT THE END OF THE AFTERNOON | scores: {'decoder': -21.332338333129883, 'ctc': -78.39175415039062, 'lm': -41.52371597290039}\n",
      "Prediction 114: IT WASN'T FOR A QUARTER OR A THIRD OF A YEAR IT WAS | scores: {'decoder': -21.140583038330078, 'ctc': -68.10245513916016, 'lm': -45.53683853149414}\n",
      "Prediction 115: IT WASN'T FOR A QUARTER OF AN HOUR AT THE END OF THE RACE | scores: {'decoder': -21.323415756225586, 'ctc': -76.33985900878906, 'lm': -42.24825668334961}\n",
      "Prediction 116: IT WASN'T FOR A QUARTER OF AN HOUR AT THE END OF THE LAST | scores: {'decoder': -20.661544799804688, 'ctc': -73.66597747802734, 'lm': -45.25817108154297}\n",
      "Prediction 117: IT WASN'T FOR A QUARTER OF AN HOUR AT THE END OF THE WEEK | scores: {'decoder': -21.74088478088379, 'ctc': -80.34507751464844, 'lm': -39.804893493652344}\n",
      "Prediction 118: IT WASN'T FOR A QUARTER OF AN HOUR AT THE END OF THE NIGHT | scores: {'decoder': -21.61948585510254, 'ctc': -76.84397888183594, 'lm': -41.64876174926758}\n",
      "Prediction 119: IT WASN'T FOR A QUARTER OF A YEAR'S YEAR IT WAS | scores: {'decoder': -21.1853084564209, 'ctc': -67.4374008178711, 'lm': -46.448150634765625}\n",
      "Prediction 120: IT WASN'T FOR A QUARTER OR A THIRD OF A YEAR IT'S | scores: {'decoder': -20.331619262695312, 'ctc': -68.82275390625, 'lm': -48.56324768066406}\n",
      "Prediction 121: IT WASN'T FOR A QUARTER OF A YEAR'S YEAR'S YEAR | scores: {'decoder': -20.137739181518555, 'ctc': -75.19975280761719, 'lm': -47.82241439819336}\n",
      "Prediction 122: IT WASN'T FOR A QUARTER OF A YEAR'S VASS | scores: {'decoder': -21.439302444458008, 'ctc': -57.507869720458984, 'lm': -50.005863189697266}\n",
      "Prediction 123: IT WASN'T FOR A QUARTER OF AN HOUR AT THE END OF THOSE | scores: {'decoder': -21.847551345825195, 'ctc': -65.59628295898438, 'lm': -46.13852310180664}\n",
      "Prediction 124: IT WASN'T FOR A QUARTER OF AN HOUR AT THE END OF THE TUNNEL | scores: {'decoder': -21.377031326293945, 'ctc': -79.60028076171875, 'lm': -43.26153564453125}\n",
      "Prediction 125: IT WASN'T FOR A QUARTER OF AN HOUR AT THE END OF THE INTERVIEW | scores: {'decoder': -22.324661254882812, 'ctc': -76.23645782470703, 'lm': -41.616825103759766}\n",
      "Prediction 126: IT WASN'T FOR A QUARTER OR A THIRD OF AN HOUR'S NOTICE | scores: {'decoder': -19.910816192626953, 'ctc': -80.21147155761719, 'lm': -48.31681823730469}\n",
      "Prediction 127: IT WASN'T FOR A QUARTER OF AN HOUR AT THE END OF THE MONTH | scores: {'decoder': -22.09705352783203, 'ctc': -81.7248764038086, 'lm': -41.52445602416992}\n",
      "Prediction 128: IT WASN'T FOR A QUARTER OF AN HOUR AT THE END OF THE ROAD | scores: {'decoder': -22.632719039916992, 'ctc': -76.20034790039062, 'lm': -42.57490539550781}\n",
      "Prediction 129: IT WASN'T FOR A QUARTER OF AN HOUR AT THE END OF THE STICK | scores: {'decoder': -22.133922576904297, 'ctc': -78.42083740234375, 'lm': -44.84681701660156}\n",
      "Prediction 130: IT WASN'T FOR A QUARTER OF AN HOUR AT THE END OF AN HOUR | scores: {'decoder': -23.49629783630371, 'ctc': -82.77362060546875, 'lm': -40.08294677734375}\n",
      "Prediction 131: IT WASN'T FOR A QUARTER OF AN HOUR AT THE END OF THE FIRST | scores: {'decoder': -23.830490112304688, 'ctc': -69.83297729492188, 'lm': -43.96936798095703}\n",
      "IT WASN'T REALLY ALL LIKE THIS\n"
     ]
    },
    {
     "ename": "",
     "evalue": "",
     "output_type": "error",
     "traceback": [
      "\u001b[1;31mThe Kernel crashed while executing code in the the current cell or a previous cell. Please review the code in the cell(s) to identify a possible cause of the failure. Click <a href='https://aka.ms/vscodeJupyterKernelCrash'>here</a> for more info. View Jupyter <a href='command:jupyter.viewOutput'>log</a> for further details."
     ]
    }
   ],
   "source": [
    "with torch.no_grad():\n",
    "    model = pipeline.modelmodule.to('cuda')\n",
    "    data = video.to('cuda')\n",
    "    transcript = model(data)\n",
    "    print(transcript)"
   ]
  }
 ],
 "metadata": {
  "kernelspec": {
   "display_name": "lip-reading",
   "language": "python",
   "name": "python3"
  },
  "language_info": {
   "codemirror_mode": {
    "name": "ipython",
    "version": 3
   },
   "file_extension": ".py",
   "mimetype": "text/x-python",
   "name": "python",
   "nbconvert_exporter": "python",
   "pygments_lexer": "ipython3",
   "version": "3.10.13"
  }
 },
 "nbformat": 4,
 "nbformat_minor": 2
}
