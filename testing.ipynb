{
 "cells": [
  {
   "cell_type": "code",
   "execution_count": 1,
   "metadata": {},
   "outputs": [
    {
     "name": "stdout",
     "output_type": "stream",
     "text": [
      "Relative path for the project directory: /home/vanshg/play/IIITH/research-cvit/lip-reading/auto_avsr, True\n"
     ]
    }
   ],
   "source": [
    "import os\n",
    "import sys\n",
    "\n",
    "# TODO: Enter the foldername in your Drive where you have saved the unzipped\n",
    "# For example e.g. : 'auto_avsr' if the folder is saved in the drive directly\n",
    "FOLDERNAME = os.getcwd()\n",
    "assert FOLDERNAME is not None, \"[!] Enter the foldername.\"\n",
    "\n",
    "# Absolute and Relative paths for the directory\n",
    "REL_DIR = f'{FOLDERNAME}'\n",
    "print(f\"Relative path for the project directory: {REL_DIR}, {os.path.exists(REL_DIR)}\")\n",
    "\n",
    "# Now that we've mounted your Drive, this ensures that\n",
    "# the Python interpreter of the Colab VM can load\n",
    "# python files from within it.\n",
    "sys.path.append(f'{FOLDERNAME}')"
   ]
  },
  {
   "cell_type": "code",
   "execution_count": 2,
   "metadata": {},
   "outputs": [],
   "source": [
    "# Importing everything to verify whether they successfully downloaded\n",
    "import torch\n",
    "import torchaudio\n",
    "import av\n",
    "import sentencepiece\n",
    "import hydra\n",
    "from hydra import initialize, compose\n",
    "import mediapipe as mp\n",
    "\n",
    "from IPython.display import display, HTML"
   ]
  },
  {
   "cell_type": "code",
   "execution_count": null,
   "metadata": {},
   "outputs": [],
   "source": []
  }
 ],
 "metadata": {
  "kernelspec": {
   "display_name": "coursework",
   "language": "python",
   "name": "python3"
  },
  "language_info": {
   "codemirror_mode": {
    "name": "ipython",
    "version": 3
   },
   "file_extension": ".py",
   "mimetype": "text/x-python",
   "name": "python",
   "nbconvert_exporter": "python",
   "pygments_lexer": "ipython3",
   "version": "3.10.13"
  }
 },
 "nbformat": 4,
 "nbformat_minor": 2
}
