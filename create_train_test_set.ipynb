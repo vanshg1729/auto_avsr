{
 "cells": [
  {
   "cell_type": "code",
   "execution_count": 1,
   "metadata": {},
   "outputs": [],
   "source": [
    "# some magic so that the notebook will reload external python modules;\n",
    "# see https://stackoverflow.com/questions/1907993/autoreload-of-modules-in-ipython\n",
    "%load_ext autoreload\n",
    "%autoreload 2"
   ]
  },
  {
   "cell_type": "code",
   "execution_count": 2,
   "metadata": {},
   "outputs": [],
   "source": [
    "import json\n",
    "import random\n",
    "import os\n",
    "import numpy as np"
   ]
  },
  {
   "cell_type": "code",
   "execution_count": 3,
   "metadata": {},
   "outputs": [
    {
     "name": "stdout",
     "output_type": "stream",
     "text": [
      "/ssd_scratch/cvit/vanshg/vansh_phrases\n"
     ]
    }
   ],
   "source": [
    "label_filepath = \"/ssd_scratch/cvit/vanshg/vansh_phrases/labels.txt\"\n",
    "label_dir = os.path.dirname(label_filepath)\n",
    "print(label_dir)"
   ]
  },
  {
   "cell_type": "code",
   "execution_count": 12,
   "metadata": {},
   "outputs": [
    {
     "name": "stdout",
     "output_type": "stream",
     "text": [
      "100\n"
     ]
    }
   ],
   "source": [
    "label_lines = open(label_filepath, 'r').readlines()\n",
    "\n",
    "print(len(label_lines))"
   ]
  },
  {
   "cell_type": "code",
   "execution_count": 26,
   "metadata": {},
   "outputs": [
    {
     "name": "stdout",
     "output_type": "stream",
     "text": [
      "processed_videos/1719055677141_42_6676b53d9cb47e5d1fc7a8c0.mp4 I NEED A HANDKERCHIEF\n",
      "\n"
     ]
    }
   ],
   "source": [
    "label_lines = open(label_filepath, 'r').readlines()\n",
    "\n",
    "rng = random.Random(42)\n",
    "rng.shuffle(label_lines)\n",
    "print(label_lines[0])"
   ]
  },
  {
   "cell_type": "code",
   "execution_count": 28,
   "metadata": {},
   "outputs": [
    {
     "name": "stdout",
     "output_type": "stream",
     "text": [
      "0, processed_videos/1719055677141_42_6676b53d9cb47e5d1fc7a8c0.mp4 I NEED A HANDKERCHIEF\n",
      "1, processed_videos/1719055641316_41_6676b5199cb47e5d1fc7a80d.mp4 I WOULD LIKE TO SEE SOME PHOTOS\n",
      "2, processed_videos/1719058053027_91_6676be859cb47e5d1fc7de27.mp4 WHERE DID YOU GO\n",
      "3, processed_videos/1719051832589_9_6676a6389cb47e5d1fc799ed.mp4 I AM UNCOMFORTABLE\n",
      "4, processed_videos/1719057563341_65_6676bc9b9cb47e5d1fc7bd25.mp4 LET US DRAW TOGETHER\n",
      "5, processed_videos/1719055888264_50_6676b6109cb47e5d1fc7aee8.mp4 IT IS GOOD TO SEE YOU AGAIN\n",
      "6, processed_videos/1718882196929_1_66740f94bcb54392537d19b7.mp4 WHAT TIME IS IT\n",
      "7, processed_videos/1719057640973_70_6676bce89cb47e5d1fc7c2ac.mp4 DO YOU WANT TO WATCH A CARTOON\n",
      "8, processed_videos/1719052261171_15_6676a7e59cb47e5d1fc79b5b.mp4 I AM FINE\n",
      "9, processed_videos/1719057819897_78_6676bd9b9cb47e5d1fc7cc54.mp4 WHAT DID YOU DO IN SCHOOL TODAY\n",
      "10, processed_videos/1719057679825_73_6676bd0f9cb47e5d1fc7c62d.mp4 IT IS TIME FOR A NAP\n",
      "11, processed_videos/1719051856295_10_6676a6509cb47e5d1fc79a20.mp4 I AM IN PAIN\n",
      "12, processed_videos/1719056022291_55_6676b6969cb47e5d1fc7b343.mp4 I NEED A NAPKIN\n",
      "13, processed_videos/1719057320328_56_6676bba89cb47e5d1fc7b42e.mp4 WHAT IS THE DATE TODAY\n",
      "14, processed_videos/1719057668942_72_6676bd049cb47e5d1fc7c4fe.mp4 LET US GO OUTSIDE\n",
      "15, processed_videos/1719055749264_45_6676b5859cb47e5d1fc7aaf1.mp4 CAN YOU TURN ON THE FAN\n",
      "16, processed_videos/1719055844132_48_6676b5e49cb47e5d1fc7ad46.mp4 CAN YOU DIM THE LIGHTS\n",
      "17, processed_videos/1719058067915_92_6676be939cb47e5d1fc7dfa2.mp4 PLEASE SIT DOWN AND TALK TO ME\n",
      "18, processed_videos/1719057712399_76_6676bd309cb47e5d1fc7c9d2.mp4 SHOW ME YOUR FAVOURITE GAME\n",
      "19, processed_videos/1719055516858_37_6676b49c9cb47e5d1fc7a569.mp4 I NEED SOME PRIVACY\n",
      "20, processed_videos/1719055245928_30_6676b38d9cb47e5d1fc7a164.mp4 CAN YOU PUT ON SOME MUSIC\n",
      "21, processed_videos/1719054731277_21_6676b18b9cb47e5d1fc79d59.mp4 PLEASE CHANGE MY POSITION\n",
      "22, processed_videos/1719055366167_32_6676b4069cb47e5d1fc7a276.mp4 CAN YOU MAKE A CALL FOR ME\n",
      "23, processed_videos/1719058153696_96_6676bee99cb47e5d1fc7e5b6.mp4 DO YOU WANT TO GO TO THE PARK\n",
      "24, processed_videos/1719057862682_80_6676bdc69cb47e5d1fc7cee6.mp4 CAN YOU DRAW A PICTURE FOR ME\n",
      "25, processed_videos/1719055859416_49_6676b5f39cb47e5d1fc7ae15.mp4 I NEED A MOMENT ALONE\n",
      "26, processed_videos/1719057905220_83_6676bdf19cb47e5d1fc7d2df.mp4 DO YOU WANT TO HAVE A PICNIC\n",
      "27, processed_videos/1719054926142_26_6676b24e9cb47e5d1fc79f70.mp4 CAN YOU MAKE SOME TEA\n",
      "28, processed_videos/1719057988995_87_6676be449cb47e5d1fc7d863.mp4 LET US PLAY WITH YOUR CAR\n",
      "29, processed_videos/1719055386367_33_6676b41a9cb47e5d1fc7a305.mp4 I WOULD LIKE TO WRITE SOMETHING\n",
      "30, processed_videos/1719050098459_8_66769f729cb47e5d1fc799be.mp4 I NEED MY PHONE\n",
      "31, processed_videos/1719055830665_47_6676b5d69cb47e5d1fc7ac7b.mp4 I AM FEELING ANXIOUS\n",
      "32, processed_videos/1719057400416_59_6676bbf89cb47e5d1fc7b707.mp4 COME GIVE ME A HUG\n",
      "33, processed_videos/1719057533687_63_6676bc7d9cb47e5d1fc7bb0b.mp4 WHAT DID YOU LEARN TODAY\n",
      "34, processed_videos/1719057691336_74_6676bd1b9cb47e5d1fc7c760.mp4 ARE YOU FEELING OKAY\n",
      "35, processed_videos/1719055703956_44_6676b5579cb47e5d1fc7aa32.mp4 CAN YOU ADJUST THE CURTAINS\n",
      "36, processed_videos/1719058185559_98_6676bf099cb47e5d1fc7e8d8.mp4 CAN YOU MAKE A FUNNY FACE\n",
      "37, processed_videos/1719055976769_52_6676b6689cb47e5d1fc7b09a.mp4 IT IS GETTING LATE I HAVE TO GO NOW\n",
      "38, processed_videos/1719057935899_85_6676be0f9cb47e5d1fc7d599.mp4 DO YOU WANT TO PLAY WITH YOUR DOLL\n",
      "39, processed_videos/1719052011460_12_6676a6eb9cb47e5d1fc79a92.mp4 TURN OFF THE LIGHT\n",
      "40, processed_videos/1719055449149_36_6676b4599cb47e5d1fc7a4ca.mp4 CAN YOU HELP ME WITH MY SHOES\n",
      "41, processed_videos/1719054762097_23_6676b1aa9cb47e5d1fc79e23.mp4 I NEED A TISSUE\n",
      "42, processed_videos/1719055583413_39_6676b4df9cb47e5d1fc7a6b3.mp4 I NEED TO BRUSH MY TEETH\n",
      "43, processed_videos/1719055601057_40_6676b4f19cb47e5d1fc7a75e.mp4 I NEED A SIP OF WATER\n",
      "44, processed_videos/1719052355324_18_6676a8439cb47e5d1fc79c48.mp4 I AM FEELING HOT\n",
      "45, processed_videos/1719057575934_66_6676bca79cb47e5d1fc7be38.mp4 DO YOU NEED HELP\n",
      "46, processed_videos/1719057458666_61_6676bc329cb47e5d1fc7b901.mp4 TIME FOR BED\n",
      "47, processed_videos/1719057448111_60_6676bc289cb47e5d1fc7b802.mp4 LET US PLAY A GAME\n",
      "48, processed_videos/1719049952043_7_66769ee09cb47e5d1fc79993.mp4 I NEED TO REST\n",
      "49, processed_videos/1719055400998_34_6676b4289cb47e5d1fc7a398.mp4 I NEED TO REST MY HEAD\n",
      "50, processed_videos/1719058204486_99_6676bf1c9cb47e5d1fc7ea6f.mp4 LET US DO A PUZZLE\n",
      "51, processed_videos/1719055760038_46_6676b5909cb47e5d1fc7abb4.mp4 I NEED SOME PEACE AND QUIET\n",
      "52, processed_videos/1718988816405_2_6675b010aef97eac3b58597a.mp4 I NEED WATER\n",
      "53, processed_videos/1719055907349_51_6676b6239cb47e5d1fc7afbf.mp4 GOODBYE TAKE CARE OF YOURSELF\n",
      "54, processed_videos/1719052316920_16_6676a81c9cb47e5d1fc79ba6.mp4 CAN YOU MOVE ME\n",
      "55, processed_videos/1719055571066_38_6676b4d39cb47e5d1fc7a60c.mp4 CAN YOU BRING ME SOME FRUIT\n",
      "56, processed_videos/1719057358043_58_6676bbce9cb47e5d1fc7b610.mp4 DID YOU HAVE FUN\n",
      "57, processed_videos/1719057597952_68_6676bcbd9cb47e5d1fc7c06a.mp4 YOU ARE DOING GREAT\n",
      "58, processed_videos/1719054745945_22_6676b1999cb47e5d1fc79dbc.mp4 I NEED A BLANKET\n",
      "59, processed_videos/1719057504049_62_6676bc609cb47e5d1fc7ba04.mp4 DO YOU WANT A STORY\n",
      "60, processed_videos/1719054889985_24_6676b2299cb47e5d1fc79e8e.mp4 CAN YOU BRING MY BAG\n",
      "61, processed_videos/1719049742255_5_66769e0e9cb47e5d1fc79949.mp4 I NEED TO USE THE BATHROOM\n",
      "62, processed_videos/1719049919899_6_66769ebf9cb47e5d1fc7996c.mp4 CAN YOU CALL THE DOCTOR\n",
      "63, processed_videos/1719057588767_67_6676bcb49cb47e5d1fc7bf4f.mp4 CAN YOU BRING ME YOUR TOY\n",
      "64, processed_videos/1719057894348_82_6676bde69cb47e5d1fc7d188.mp4 LET US WATCH A MOVIE\n",
      "65, processed_videos/1719052381238_19_6676a85d9cb47e5d1fc79c9f.mp4 PLEASE OPEN THE WINDOW\n",
      "66, processed_videos/1719057838224_79_6676bdae9cb47e5d1fc7cd9b.mp4 DO YOU WANT TO GO AND PLAY OUTSIDE\n",
      "67, processed_videos/1719055688869_43_6676b5489cb47e5d1fc7a977.mp4 I NEED MY CHARGER\n",
      "68, processed_videos/1719058040539_90_6676be789cb47e5d1fc7dcb0.mp4 CAN YOU COUNT TO TEN\n",
      "69, processed_videos/1719054660814_20_6676b1449cb47e5d1fc79cfa.mp4 ADJUST MY PILLOW\n",
      "70, processed_videos/1718881781149_0_66740df5bcb54392537d19a8.mp4 I NEED MY MEDICATION\n",
      "71, processed_videos/1719058138542_95_6676beda9cb47e5d1fc7e42b.mp4 DO YOU WANT TO HELP ME COOK\n",
      "72, processed_videos/1719057340103_57_6676bbbc9cb47e5d1fc7b51d.mp4 HOW WAS YOUR DAY\n",
      "73, processed_videos/1719058094952_93_6676beae9cb47e5d1fc7e121.mp4 LET ME DRIVE YOU TO SCHOOL\n",
      "74, processed_videos/1719055988096_53_6676b6749cb47e5d1fc7b179.mp4 CAN YOU READ THE NEWS TO ME\n",
      "75, processed_videos/1719058026974_89_6676be6a9cb47e5d1fc7db3d.mp4 LET US PLAY CATCH\n",
      "76, processed_videos/1719054911406_25_6676b23f9cb47e5d1fc79efd.mp4 CAN YOU MASSAGE MY BACK\n",
      "77, processed_videos/1719057654227_71_6676bcf69cb47e5d1fc7c3d3.mp4 WHAT DO YOU WANT TO EAT\n",
      "78, processed_videos/1719057917671_84_6676bdfd9cb47e5d1fc7d43a.mp4 LET US TALK ABOUT YOUR FRIENDS\n",
      "79, processed_videos/1719057763433_77_6676bd639cb47e5d1fc7cb11.mp4 CAN YOU TELL ME ABOUT YOUR DAY\n",
      "80, processed_videos/1719057549085_64_6676bc8d9cb47e5d1fc7bc16.mp4 ARE YOU HUNGRY\n",
      "81, processed_videos/1719055141328_29_6676b3259cb47e5d1fc7a0e1.mp4 PLEASE HOLD MY HAND\n",
      "82, processed_videos/1719054944006_27_6676b2609cb47e5d1fc79fe7.mp4 WHAT IS THE WEATHER LIKE\n",
      "83, processed_videos/1719058002472_88_6676be529cb47e5d1fc7d9ce.mp4 WHAT IS YOUR FAVOURITE FOOD\n",
      "84, processed_videos/1719058170650_97_6676befa9cb47e5d1fc7e745.mp4 WHAT DID YOU SEE TODAY\n",
      "85, processed_videos/1718989233188_4_6675b1b1aef97eac3b5859ac.mp4 PLEASE HELP ME\n",
      "86, processed_videos/1719056002833_54_6676b6829cb47e5d1fc7b25c.mp4 PLEASE SET THE ALARM\n",
      "87, processed_videos/1719057701735_75_6676bd259cb47e5d1fc7c897.mp4 LET US PLAY WITH YOUR TOYS\n",
      "88, processed_videos/1719051999617_11_6676a6df9cb47e5d1fc79a57.mp4 TURN ON THE LIGHT\n",
      "89, processed_videos/1719057614556_69_6676bcce9cb47e5d1fc7c189.mp4 I AM PROUD OF YOU\n",
      "90, processed_videos/1719057956245_86_6676be249cb47e5d1fc7d6fc.mp4 CAN YOU TELL ME A JOKE\n",
      "91, processed_videos/1719052034645_13_6676a7029cb47e5d1fc79ad1.mp4 PLEASE CLOSE THE DOOR\n",
      "92, processed_videos/1719052340057_17_6676a8349cb47e5d1fc79bf5.mp4 I AM FEELING COLD\n",
      "93, processed_videos/1719054967474_28_6676b2779cb47e5d1fc7a062.mp4 I WOULD LIKE SOME FRESH AIR\n",
      "94, processed_videos/1719055285732_31_6676b3b59cb47e5d1fc7a1eb.mp4 I NEED TO TALK TO YOU\n",
      "95, processed_videos/1719055421038_35_6676b43d9cb47e5d1fc7a42f.mp4 I NEED TO CHANGE MY CLOTHES\n",
      "96, processed_videos/1719058124332_94_6676becc9cb47e5d1fc7e2a4.mp4 LET US READ A BOOK TOGETHER\n",
      "97, processed_videos/1718989106582_3_6675b132aef97eac3b585991.mp4 I AM HUNGRY\n",
      "98, processed_videos/1719052058790_14_6676a71a9cb47e5d1fc79b14.mp4 HOW ARE YOU\n",
      "99, processed_videos/1719057879007_81_6676bdd79cb47e5d1fc7d035.mp4 WHAT DID YOU DREAM ABOUT\n"
     ]
    }
   ],
   "source": [
    "\n",
    "label_lines = open(label_filepath, 'r').readlines()\n",
    "rng = random.Random(42)\n",
    "\n",
    "N = len(label_lines)\n",
    "test_size = 0.3\n",
    "train_label_filepath = os.path.join(label_dir, \"train_labels.txt\")\n",
    "test_label_filepath = os.path.join(label_dir, \"test_labels.txt\")\n",
    "\n",
    "num_test = int(test_size * N)\n",
    "num_train = int((1 - test_size) * N)\n",
    "\n",
    "rng.shuffle(label_lines)\n",
    "\n",
    "# Creating the Train label file\n",
    "with open(train_label_filepath, 'w') as file:\n",
    "    for i in range(num_train):\n",
    "        print(f\"{i}, {label_lines[i]}\", end='')\n",
    "        file.write(label_lines[i])\n",
    "\n",
    "# Creating the Test label file\n",
    "with open(test_label_filepath, 'w') as file:\n",
    "    for i in range(num_train, N):\n",
    "        print(f\"{i}, {label_lines[i]}\", end='')\n",
    "        file.write(label_lines[i])"
   ]
  }
 ],
 "metadata": {
  "kernelspec": {
   "display_name": "lip-reading",
   "language": "python",
   "name": "python3"
  },
  "language_info": {
   "codemirror_mode": {
    "name": "ipython",
    "version": 3
   },
   "file_extension": ".py",
   "mimetype": "text/x-python",
   "name": "python",
   "nbconvert_exporter": "python",
   "pygments_lexer": "ipython3",
   "version": "3.11.9"
  }
 },
 "nbformat": 4,
 "nbformat_minor": 2
}
